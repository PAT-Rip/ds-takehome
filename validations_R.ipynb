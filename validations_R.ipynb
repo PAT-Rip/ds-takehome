{
 "cells": [
  {
   "cell_type": "markdown",
   "id": "7d0eda43",
   "metadata": {},
   "source": [
    "# Validation with R"
   ]
  },
  {
   "cell_type": "markdown",
   "id": "d48bf0b4",
   "metadata": {},
   "source": [
    "## 1. Install dan Load Package"
   ]
  },
  {
   "cell_type": "code",
   "execution_count": 1,
   "id": "01ca5e2d",
   "metadata": {
    "vscode": {
     "languageId": "r"
    }
   },
   "outputs": [
    {
     "name": "stderr",
     "output_type": "stream",
     "text": [
      "Installing package into 'C:/Users/rifat/AppData/Local/R/win-library/4.5'\n",
      "(as 'lib' is unspecified)\n",
      "\n"
     ]
    },
    {
     "name": "stdout",
     "output_type": "stream",
     "text": [
      "package 'ResourceSelection' successfully unpacked and MD5 sums checked\n",
      "\n",
      "The downloaded binary packages are in\n",
      "\tC:\\Users\\rifat\\AppData\\Local\\Temp\\RtmpwfgRIm\\downloaded_packages\n"
     ]
    },
    {
     "name": "stderr",
     "output_type": "stream",
     "text": [
      "Installing package into 'C:/Users/rifat/AppData/Local/R/win-library/4.5'\n",
      "(as 'lib' is unspecified)\n",
      "\n"
     ]
    },
    {
     "name": "stdout",
     "output_type": "stream",
     "text": [
      "package 'ggplot2' successfully unpacked and MD5 sums checked\n",
      "\n",
      "The downloaded binary packages are in\n",
      "\tC:\\Users\\rifat\\AppData\\Local\\Temp\\RtmpwfgRIm\\downloaded_packages\n"
     ]
    },
    {
     "name": "stderr",
     "output_type": "stream",
     "text": [
      "ResourceSelection 0.3-6 \t 2023-06-27\n",
      "\n",
      "\n",
      "Attaching package: 'dplyr'\n",
      "\n",
      "\n",
      "The following objects are masked from 'package:stats':\n",
      "\n",
      "    filter, lag\n",
      "\n",
      "\n",
      "The following objects are masked from 'package:base':\n",
      "\n",
      "    intersect, setdiff, setequal, union\n",
      "\n",
      "\n"
     ]
    }
   ],
   "source": [
    "install.packages(\"ResourceSelection\")\n",
    "install.packages(\"ggplot2\")\n",
    "library(ResourceSelection)\n",
    "library(ggplot2)\n",
    "library(dplyr)"
   ]
  },
  {
   "cell_type": "markdown",
   "id": "e055e4fb",
   "metadata": {},
   "source": [
    "## 2. Load Dataset"
   ]
  },
  {
   "cell_type": "code",
   "execution_count": 2,
   "id": "5d06f32f",
   "metadata": {
    "vscode": {
     "languageId": "r"
    }
   },
   "outputs": [],
   "source": [
    "data <- read.csv(\"data/predictions.csv\")"
   ]
  },
  {
   "cell_type": "markdown",
   "id": "abd5cf81",
   "metadata": {},
   "source": [
    "## 3. Hosmer-Lemeshow Test"
   ]
  },
  {
   "cell_type": "code",
   "execution_count": 3,
   "id": "53e9e5ad",
   "metadata": {
    "vscode": {
     "languageId": "r"
    }
   },
   "outputs": [
    {
     "data": {
      "text/plain": [
       "\n",
       "\tHosmer and Lemeshow goodness of fit (GOF) test\n",
       "\n",
       "data:  data$actual, data$proba\n",
       "X-squared = 8.3578, df = 8, p-value = 0.3993\n"
      ]
     },
     "metadata": {},
     "output_type": "display_data"
    }
   ],
   "source": [
    "hoslem.test(data$actual, data$proba, g = 10)"
   ]
  },
  {
   "cell_type": "markdown",
   "id": "f67efeff",
   "metadata": {},
   "source": [
    "## 4. Calibration Curve"
   ]
  },
  {
   "cell_type": "code",
   "execution_count": 4,
   "id": "69d26927",
   "metadata": {
    "vscode": {
     "languageId": "r"
    }
   },
   "outputs": [
    {
     "data": {
      "image/png": "[encoded data removed]",
      "text/plain": [
       "plot without title"
      ]
     },
     "metadata": {
      "image/png": {
       "height": 420,
       "width": 420
      }
     },
     "output_type": "display_data"
    }
   ],
   "source": [
    "# Binning\n",
    "calib <- data %>%\n",
    "  mutate(bin = ntile(proba, 10)) %>%\n",
    "  group_by(bin) %>%\n",
    "  summarise(\n",
    "    mean_prob = mean(proba),\n",
    "    actual_rate = mean(actual)\n",
    "  )\n",
    "\n",
    "# Plot calibration curve\n",
    "ggplot(calib, aes(x = mean_prob, y = actual_rate)) +\n",
    "  geom_line(color = \"steelblue\") +\n",
    "  geom_abline(slope = 1, intercept = 0, linetype = \"dashed\", color = \"gray\") +\n",
    "  labs(\n",
    "    title = \"Calibration Curve\",\n",
    "    x = \"Predicted Probability\",\n",
    "    y = \"Observed Default Rate\"\n",
    "  ) +\n",
    "  theme_minimal()\n"
   ]
  },
  {
   "cell_type": "code",
   "execution_count": null,
   "id": "da59e77e",
   "metadata": {
    "vscode": {
     "languageId": "r"
    }
   },
   "outputs": [],
   "source": []
  }
 ],
 "metadata": {
  "kernelspec": {
   "display_name": "R",
   "language": "R",
   "name": "ir"
  },
  "language_info": {
   "codemirror_mode": "r",
   "file_extension": ".r",
   "mimetype": "text/x-r-source",
   "name": "R",
   "pygments_lexer": "r",
   "version": "4.5.0"
  }
 },
 "nbformat": 4,
 "nbformat_minor": 5
}
