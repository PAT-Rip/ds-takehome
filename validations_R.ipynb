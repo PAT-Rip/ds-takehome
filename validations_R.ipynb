{
 "cells": [
  {
   "cell_type": "markdown",
   "id": "7d0eda43",
   "metadata": {},
   "source": [
    "# Validation with R"
   ]
  },
  {
   "cell_type": "markdown",
   "id": "d48bf0b4",
   "metadata": {},
   "source": [
    "## 1. Install dan Load Package"
   ]
  },
  {
   "cell_type": "code",
   "execution_count": 6,
   "id": "01ca5e2d",
   "metadata": {
    "vscode": {
     "languageId": "r"
    }
   },
   "outputs": [
    {
     "name": "stderr",
     "output_type": "stream",
     "text": [
      "Installing package into 'C:/Users/rifat/AppData/Local/R/win-library/4.5'\n",
      "(as 'lib' is unspecified)\n",
      "\n",
      "also installing the dependency 'pbapply'\n",
      "\n",
      "\n"
     ]
    },
    {
     "name": "stdout",
     "output_type": "stream",
     "text": [
      "package 'pbapply' successfully unpacked and MD5 sums checked\n",
      "package 'ResourceSelection' successfully unpacked and MD5 sums checked\n",
      "\n",
      "The downloaded binary packages are in\n",
      "\tC:\\Users\\rifat\\AppData\\Local\\Temp\\Rtmp48n10q\\downloaded_packages\n"
     ]
    },
    {
     "name": "stderr",
     "output_type": "stream",
     "text": [
      "Warning message:\n",
      "\"package 'ggplot2' is in use and will not be installed\"\n",
      "ResourceSelection 0.3-6 \t 2023-06-27\n",
      "\n"
     ]
    }
   ],
   "source": [
    "install.packages(\"ResourceSelection\")\n",
    "install.packages(\"ggplot2\")\n",
    "library(ResourceSelection)\n",
    "library(ggplot2)"
   ]
  },
  {
   "cell_type": "markdown",
   "id": "e055e4fb",
   "metadata": {},
   "source": [
    "## 2. Load Dataset"
   ]
  },
  {
   "cell_type": "code",
   "execution_count": 4,
   "id": "5d06f32f",
   "metadata": {
    "vscode": {
     "languageId": "r"
    }
   },
   "outputs": [],
   "source": [
    "data <- read.csv(\"data/predictions.csv\")"
   ]
  },
  {
   "cell_type": "markdown",
   "id": "abd5cf81",
   "metadata": {},
   "source": [
    "## 3. Hosmer-Lemeshow Test"
   ]
  },
  {
   "cell_type": "code",
   "execution_count": null,
   "id": "53e9e5ad",
   "metadata": {
    "vscode": {
     "languageId": "r"
    }
   },
   "outputs": [
    {
     "ename": "ERROR",
     "evalue": "Error in hltest(y = data$actual, pi = data$proba, g = 10): argument \"model\" is missing, with no default\n",
     "output_type": "error",
     "traceback": [
      "Error in hltest(y = data$actual, pi = data$proba, g = 10): argument \"model\" is missing, with no default\nTraceback:\n"
     ]
    }
   ],
   "source": [
    "hoslem.test(data$actual, data$predicted_prob, g = 10)"
   ]
  },
  {
   "cell_type": "code",
   "execution_count": null,
   "id": "69d26927",
   "metadata": {
    "vscode": {
     "languageId": "r"
    }
   },
   "outputs": [],
   "source": []
  }
 ],
 "metadata": {
  "kernelspec": {
   "display_name": "R",
   "language": "R",
   "name": "ir"
  },
  "language_info": {
   "codemirror_mode": "r",
   "file_extension": ".r",
   "mimetype": "text/x-r-source",
   "name": "R",
   "pygments_lexer": "r",
   "version": "4.5.0"
  }
 },
 "nbformat": 4,
 "nbformat_minor": 5
}
