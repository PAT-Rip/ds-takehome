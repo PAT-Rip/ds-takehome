{
 "cells": [
  {
   "cell_type": "markdown",
   "id": "71c74453",
   "metadata": {},
   "source": [
    "# Technical Test"
   ]
  },
  {
   "cell_type": "markdown",
   "id": "24695ac4",
   "metadata": {},
   "source": [
    "## 1. Import Libraries"
   ]
  },
  {
   "cell_type": "code",
   "execution_count": 1,
   "id": "0b64219b",
   "metadata": {},
   "outputs": [],
   "source": [
    "# Import Libraries\n",
    "import pandas as pd\n",
    "import numpy as np\n",
    "import matplotlib.pyplot as plt\n",
    "import shap\n",
    "\n",
    "from sklearn.pipeline import make_pipeline\n",
    "from sklearn.linear_model import LogisticRegression\n",
    "from sklearn.preprocessing import StandardScaler\n",
    "from sklearn.ensemble import GradientBoostingClassifier\n",
    "from sklearn.model_selection import train_test_split, GridSearchCV, cross_val_score, StratifiedKFold \n",
    "from sklearn.metrics import roc_auc_score, roc_curve"
   ]
  },
  {
   "cell_type": "markdown",
   "id": "8f0b54cc",
   "metadata": {},
   "source": [
    "## 2. Data Loading"
   ]
  },
  {
   "cell_type": "code",
   "execution_count": 2,
   "id": "3e086594",
   "metadata": {},
   "outputs": [
    {
     "data": {
      "text/html": [
       "<div>\n",
       "<style scoped>\n",
       "    .dataframe tbody tr th:only-of-type {\n",
       "        vertical-align: middle;\n",
       "    }\n",
       "\n",
       "    .dataframe tbody tr th {\n",
       "        vertical-align: top;\n",
       "    }\n",
       "\n",
       "    .dataframe thead th {\n",
       "        text-align: right;\n",
       "    }\n",
       "</style>\n",
       "<table border=\"1\" class=\"dataframe\">\n",
       "  <thead>\n",
       "    <tr style=\"text-align: right;\">\n",
       "      <th></th>\n",
       "      <th>application_id</th>\n",
       "      <th>age</th>\n",
       "      <th>monthly_income</th>\n",
       "      <th>loan_amount</th>\n",
       "      <th>previous_defaults</th>\n",
       "      <th>credit_score</th>\n",
       "      <th>default</th>\n",
       "      <th>leak_col_good</th>\n",
       "      <th>leak_col_subtle</th>\n",
       "    </tr>\n",
       "  </thead>\n",
       "  <tbody>\n",
       "    <tr>\n",
       "      <th>0</th>\n",
       "      <td>501000</td>\n",
       "      <td>41</td>\n",
       "      <td>13995609</td>\n",
       "      <td>5982664</td>\n",
       "      <td>0</td>\n",
       "      <td>624</td>\n",
       "      <td>0</td>\n",
       "      <td>0</td>\n",
       "      <td>-0.040</td>\n",
       "    </tr>\n",
       "    <tr>\n",
       "      <th>1</th>\n",
       "      <td>501001</td>\n",
       "      <td>58</td>\n",
       "      <td>13683833</td>\n",
       "      <td>3711198</td>\n",
       "      <td>0</td>\n",
       "      <td>809</td>\n",
       "      <td>0</td>\n",
       "      <td>0</td>\n",
       "      <td>0.001</td>\n",
       "    </tr>\n",
       "    <tr>\n",
       "      <th>2</th>\n",
       "      <td>501002</td>\n",
       "      <td>33</td>\n",
       "      <td>9417391</td>\n",
       "      <td>7172332</td>\n",
       "      <td>0</td>\n",
       "      <td>647</td>\n",
       "      <td>0</td>\n",
       "      <td>0</td>\n",
       "      <td>0.077</td>\n",
       "    </tr>\n",
       "    <tr>\n",
       "      <th>3</th>\n",
       "      <td>501003</td>\n",
       "      <td>45</td>\n",
       "      <td>6861811</td>\n",
       "      <td>8661056</td>\n",
       "      <td>0</td>\n",
       "      <td>450</td>\n",
       "      <td>0</td>\n",
       "      <td>0</td>\n",
       "      <td>0.038</td>\n",
       "    </tr>\n",
       "    <tr>\n",
       "      <th>4</th>\n",
       "      <td>501004</td>\n",
       "      <td>22</td>\n",
       "      <td>5640742</td>\n",
       "      <td>4520669</td>\n",
       "      <td>1</td>\n",
       "      <td>816</td>\n",
       "      <td>0</td>\n",
       "      <td>0</td>\n",
       "      <td>0.020</td>\n",
       "    </tr>\n",
       "    <tr>\n",
       "      <th>...</th>\n",
       "      <td>...</td>\n",
       "      <td>...</td>\n",
       "      <td>...</td>\n",
       "      <td>...</td>\n",
       "      <td>...</td>\n",
       "      <td>...</td>\n",
       "      <td>...</td>\n",
       "      <td>...</td>\n",
       "      <td>...</td>\n",
       "    </tr>\n",
       "    <tr>\n",
       "      <th>5995</th>\n",
       "      <td>506995</td>\n",
       "      <td>26</td>\n",
       "      <td>18253018</td>\n",
       "      <td>3690565</td>\n",
       "      <td>2</td>\n",
       "      <td>729</td>\n",
       "      <td>0</td>\n",
       "      <td>0</td>\n",
       "      <td>0.008</td>\n",
       "    </tr>\n",
       "    <tr>\n",
       "      <th>5996</th>\n",
       "      <td>506996</td>\n",
       "      <td>40</td>\n",
       "      <td>9944385</td>\n",
       "      <td>4082038</td>\n",
       "      <td>1</td>\n",
       "      <td>477</td>\n",
       "      <td>0</td>\n",
       "      <td>0</td>\n",
       "      <td>0.017</td>\n",
       "    </tr>\n",
       "    <tr>\n",
       "      <th>5997</th>\n",
       "      <td>506997</td>\n",
       "      <td>28</td>\n",
       "      <td>9048532</td>\n",
       "      <td>14760384</td>\n",
       "      <td>0</td>\n",
       "      <td>450</td>\n",
       "      <td>0</td>\n",
       "      <td>0</td>\n",
       "      <td>-0.054</td>\n",
       "    </tr>\n",
       "    <tr>\n",
       "      <th>5998</th>\n",
       "      <td>506998</td>\n",
       "      <td>51</td>\n",
       "      <td>6843160</td>\n",
       "      <td>11774594</td>\n",
       "      <td>0</td>\n",
       "      <td>561</td>\n",
       "      <td>0</td>\n",
       "      <td>0</td>\n",
       "      <td>0.026</td>\n",
       "    </tr>\n",
       "    <tr>\n",
       "      <th>5999</th>\n",
       "      <td>506999</td>\n",
       "      <td>35</td>\n",
       "      <td>12715733</td>\n",
       "      <td>8006387</td>\n",
       "      <td>0</td>\n",
       "      <td>774</td>\n",
       "      <td>0</td>\n",
       "      <td>0</td>\n",
       "      <td>0.008</td>\n",
       "    </tr>\n",
       "  </tbody>\n",
       "</table>\n",
       "<p>6000 rows × 9 columns</p>\n",
       "</div>"
      ],
      "text/plain": [
       "      application_id  age  monthly_income  loan_amount  previous_defaults  \\\n",
       "0             501000   41        13995609      5982664                  0   \n",
       "1             501001   58        13683833      3711198                  0   \n",
       "2             501002   33         9417391      7172332                  0   \n",
       "3             501003   45         6861811      8661056                  0   \n",
       "4             501004   22         5640742      4520669                  1   \n",
       "...              ...  ...             ...          ...                ...   \n",
       "5995          506995   26        18253018      3690565                  2   \n",
       "5996          506996   40         9944385      4082038                  1   \n",
       "5997          506997   28         9048532     14760384                  0   \n",
       "5998          506998   51         6843160     11774594                  0   \n",
       "5999          506999   35        12715733      8006387                  0   \n",
       "\n",
       "      credit_score  default  leak_col_good  leak_col_subtle  \n",
       "0              624        0              0           -0.040  \n",
       "1              809        0              0            0.001  \n",
       "2              647        0              0            0.077  \n",
       "3              450        0              0            0.038  \n",
       "4              816        0              0            0.020  \n",
       "...            ...      ...            ...              ...  \n",
       "5995           729        0              0            0.008  \n",
       "5996           477        0              0            0.017  \n",
       "5997           450        0              0           -0.054  \n",
       "5998           561        0              0            0.026  \n",
       "5999           774        0              0            0.008  \n",
       "\n",
       "[6000 rows x 9 columns]"
      ]
     },
     "execution_count": 2,
     "metadata": {},
     "output_type": "execute_result"
    }
   ],
   "source": [
    "# Load data\n",
    "df = pd.read_csv('../data/credit_scoring.csv')\n",
    "df"
   ]
  },
  {
   "cell_type": "markdown",
   "id": "820f96be",
   "metadata": {},
   "source": [
    "## 3. EDA"
   ]
  },
  {
   "cell_type": "code",
   "execution_count": 3,
   "id": "f469979c",
   "metadata": {},
   "outputs": [
    {
     "name": "stdout",
     "output_type": "stream",
     "text": [
      "<class 'pandas.core.frame.DataFrame'>\n",
      "RangeIndex: 6000 entries, 0 to 5999\n",
      "Data columns (total 9 columns):\n",
      " #   Column             Non-Null Count  Dtype  \n",
      "---  ------             --------------  -----  \n",
      " 0   application_id     6000 non-null   int64  \n",
      " 1   age                6000 non-null   int64  \n",
      " 2   monthly_income     6000 non-null   int64  \n",
      " 3   loan_amount        6000 non-null   int64  \n",
      " 4   previous_defaults  6000 non-null   int64  \n",
      " 5   credit_score       6000 non-null   int64  \n",
      " 6   default            6000 non-null   int64  \n",
      " 7   leak_col_good      6000 non-null   int64  \n",
      " 8   leak_col_subtle    6000 non-null   float64\n",
      "dtypes: float64(1), int64(8)\n",
      "memory usage: 422.0 KB\n"
     ]
    }
   ],
   "source": [
    "df.info()"
   ]
  },
  {
   "cell_type": "code",
   "execution_count": 4,
   "id": "5fd207d3",
   "metadata": {},
   "outputs": [
    {
     "data": {
      "text/plain": [
       "0"
      ]
     },
     "execution_count": 4,
     "metadata": {},
     "output_type": "execute_result"
    }
   ],
   "source": [
    "# Cek row yang duplikat\n",
    "df.duplicated().sum()"
   ]
  },
  {
   "cell_type": "code",
   "execution_count": 5,
   "id": "9eb7fa27",
   "metadata": {},
   "outputs": [
    {
     "data": {
      "text/plain": [
       "<Axes: >"
      ]
     },
     "execution_count": 5,
     "metadata": {},
     "output_type": "execute_result"
    },
    {
     "data": {
      "image/png": "[encoded data removed]",
      "text/plain": [
       "<Figure size 640x480 with 1 Axes>"
      ]
     },
     "metadata": {},
     "output_type": "display_data"
    }
   ],
   "source": [
    "df['age'].hist()\n"
   ]
  },
  {
   "cell_type": "code",
   "execution_count": 6,
   "id": "aa96048a",
   "metadata": {},
   "outputs": [
    {
     "data": {
      "text/plain": [
       "<Axes: >"
      ]
     },
     "execution_count": 6,
     "metadata": {},
     "output_type": "execute_result"
    },
    {
     "data": {
      "image/png": "[encoded data removed]",
      "text/plain": [
       "<Figure size 640x480 with 1 Axes>"
      ]
     },
     "metadata": {},
     "output_type": "display_data"
    }
   ],
   "source": [
    "df['monthly_income'].hist()\n",
    "\n"
   ]
  },
  {
   "cell_type": "code",
   "execution_count": 7,
   "id": "2a9ae008",
   "metadata": {},
   "outputs": [
    {
     "data": {
      "text/plain": [
       "<Axes: >"
      ]
     },
     "execution_count": 7,
     "metadata": {},
     "output_type": "execute_result"
    },
    {
     "data": {
      "image/png": "[encoded data removed]",
      "text/plain": [
       "<Figure size 640x480 with 1 Axes>"
      ]
     },
     "metadata": {},
     "output_type": "display_data"
    }
   ],
   "source": [
    "df['loan_amount'].hist()"
   ]
  },
  {
   "cell_type": "code",
   "execution_count": 8,
   "id": "193c1a50",
   "metadata": {},
   "outputs": [
    {
     "data": {
      "text/html": [
       "<div>\n",
       "<style scoped>\n",
       "    .dataframe tbody tr th:only-of-type {\n",
       "        vertical-align: middle;\n",
       "    }\n",
       "\n",
       "    .dataframe tbody tr th {\n",
       "        vertical-align: top;\n",
       "    }\n",
       "\n",
       "    .dataframe thead th {\n",
       "        text-align: right;\n",
       "    }\n",
       "</style>\n",
       "<table border=\"1\" class=\"dataframe\">\n",
       "  <thead>\n",
       "    <tr style=\"text-align: right;\">\n",
       "      <th></th>\n",
       "      <th>application_id</th>\n",
       "      <th>age</th>\n",
       "      <th>monthly_income</th>\n",
       "      <th>loan_amount</th>\n",
       "      <th>previous_defaults</th>\n",
       "      <th>credit_score</th>\n",
       "      <th>default</th>\n",
       "    </tr>\n",
       "  </thead>\n",
       "  <tbody>\n",
       "    <tr>\n",
       "      <th>0</th>\n",
       "      <td>501000</td>\n",
       "      <td>41</td>\n",
       "      <td>13995609</td>\n",
       "      <td>5982664</td>\n",
       "      <td>0</td>\n",
       "      <td>624</td>\n",
       "      <td>0</td>\n",
       "    </tr>\n",
       "    <tr>\n",
       "      <th>1</th>\n",
       "      <td>501001</td>\n",
       "      <td>58</td>\n",
       "      <td>13683833</td>\n",
       "      <td>3711198</td>\n",
       "      <td>0</td>\n",
       "      <td>809</td>\n",
       "      <td>0</td>\n",
       "    </tr>\n",
       "    <tr>\n",
       "      <th>2</th>\n",
       "      <td>501002</td>\n",
       "      <td>33</td>\n",
       "      <td>9417391</td>\n",
       "      <td>7172332</td>\n",
       "      <td>0</td>\n",
       "      <td>647</td>\n",
       "      <td>0</td>\n",
       "    </tr>\n",
       "    <tr>\n",
       "      <th>3</th>\n",
       "      <td>501003</td>\n",
       "      <td>45</td>\n",
       "      <td>6861811</td>\n",
       "      <td>8661056</td>\n",
       "      <td>0</td>\n",
       "      <td>450</td>\n",
       "      <td>0</td>\n",
       "    </tr>\n",
       "    <tr>\n",
       "      <th>4</th>\n",
       "      <td>501004</td>\n",
       "      <td>22</td>\n",
       "      <td>5640742</td>\n",
       "      <td>4520669</td>\n",
       "      <td>1</td>\n",
       "      <td>816</td>\n",
       "      <td>0</td>\n",
       "    </tr>\n",
       "    <tr>\n",
       "      <th>...</th>\n",
       "      <td>...</td>\n",
       "      <td>...</td>\n",
       "      <td>...</td>\n",
       "      <td>...</td>\n",
       "      <td>...</td>\n",
       "      <td>...</td>\n",
       "      <td>...</td>\n",
       "    </tr>\n",
       "    <tr>\n",
       "      <th>5995</th>\n",
       "      <td>506995</td>\n",
       "      <td>26</td>\n",
       "      <td>18253018</td>\n",
       "      <td>3690565</td>\n",
       "      <td>2</td>\n",
       "      <td>729</td>\n",
       "      <td>0</td>\n",
       "    </tr>\n",
       "    <tr>\n",
       "      <th>5996</th>\n",
       "      <td>506996</td>\n",
       "      <td>40</td>\n",
       "      <td>9944385</td>\n",
       "      <td>4082038</td>\n",
       "      <td>1</td>\n",
       "      <td>477</td>\n",
       "      <td>0</td>\n",
       "    </tr>\n",
       "    <tr>\n",
       "      <th>5997</th>\n",
       "      <td>506997</td>\n",
       "      <td>28</td>\n",
       "      <td>9048532</td>\n",
       "      <td>14760384</td>\n",
       "      <td>0</td>\n",
       "      <td>450</td>\n",
       "      <td>0</td>\n",
       "    </tr>\n",
       "    <tr>\n",
       "      <th>5998</th>\n",
       "      <td>506998</td>\n",
       "      <td>51</td>\n",
       "      <td>6843160</td>\n",
       "      <td>11774594</td>\n",
       "      <td>0</td>\n",
       "      <td>561</td>\n",
       "      <td>0</td>\n",
       "    </tr>\n",
       "    <tr>\n",
       "      <th>5999</th>\n",
       "      <td>506999</td>\n",
       "      <td>35</td>\n",
       "      <td>12715733</td>\n",
       "      <td>8006387</td>\n",
       "      <td>0</td>\n",
       "      <td>774</td>\n",
       "      <td>0</td>\n",
       "    </tr>\n",
       "  </tbody>\n",
       "</table>\n",
       "<p>6000 rows × 7 columns</p>\n",
       "</div>"
      ],
      "text/plain": [
       "      application_id  age  monthly_income  loan_amount  previous_defaults  \\\n",
       "0             501000   41        13995609      5982664                  0   \n",
       "1             501001   58        13683833      3711198                  0   \n",
       "2             501002   33         9417391      7172332                  0   \n",
       "3             501003   45         6861811      8661056                  0   \n",
       "4             501004   22         5640742      4520669                  1   \n",
       "...              ...  ...             ...          ...                ...   \n",
       "5995          506995   26        18253018      3690565                  2   \n",
       "5996          506996   40         9944385      4082038                  1   \n",
       "5997          506997   28         9048532     14760384                  0   \n",
       "5998          506998   51         6843160     11774594                  0   \n",
       "5999          506999   35        12715733      8006387                  0   \n",
       "\n",
       "      credit_score  default  \n",
       "0              624        0  \n",
       "1              809        0  \n",
       "2              647        0  \n",
       "3              450        0  \n",
       "4              816        0  \n",
       "...            ...      ...  \n",
       "5995           729        0  \n",
       "5996           477        0  \n",
       "5997           450        0  \n",
       "5998           561        0  \n",
       "5999           774        0  \n",
       "\n",
       "[6000 rows x 7 columns]"
      ]
     },
     "execution_count": 8,
     "metadata": {},
     "output_type": "execute_result"
    }
   ],
   "source": [
    "# Drop kolom leak\n",
    "df.drop(['leak_col_good', 'leak_col_subtle'],axis=1, inplace=True)\n",
    "df"
   ]
  },
  {
   "cell_type": "markdown",
   "id": "383a6489",
   "metadata": {},
   "source": [
    "Dari EDA yang telah dilakukan, ditemukan bahwa dataset tidak mengandung missing value, data duplikat, serta tipe datanya sudah sesuai.\n",
    "\n",
    "Berdasarkan tiga histogram yang dianalisis:\n",
    "\n",
    "* Rentang usia yang paling banyak mengajukan pinjaman berada di kisaran 50–55 tahun, yang termasuk dalam kategori pra-lansia.\n",
    "\n",
    "* Sebagian besar pemohon memiliki pendapatan bulanan sekitar Rp5.000.000.\n",
    "\n",
    "* Jumlah pinjaman yang paling sering diajukan adalah sebesar Rp14.000.000."
   ]
  },
  {
   "cell_type": "markdown",
   "id": "5662503d",
   "metadata": {},
   "source": [
    "## 4. Feature Engineering"
   ]
  },
  {
   "cell_type": "markdown",
   "id": "70cf5d5e",
   "metadata": {},
   "source": [
    "### A. Split X dan y"
   ]
  },
  {
   "cell_type": "code",
   "execution_count": 9,
   "id": "08d5810e",
   "metadata": {},
   "outputs": [
    {
     "name": "stdout",
     "output_type": "stream",
     "text": [
      "Train Size: (4800, 5)\n",
      "Train Size: (1200, 5)\n"
     ]
    }
   ],
   "source": [
    "X = df.drop(['application_id', 'default'], axis=1)\n",
    "y = df.default\n",
    "\n",
    "# Train Test Split\n",
    "X_train, X_test, y_train, y_test = train_test_split(X,y, test_size=0.2, random_state= 40)\n",
    "print('Train Size:', X_train.shape)\n",
    "print('Train Size:', X_test.shape)"
   ]
  },
  {
   "cell_type": "markdown",
   "id": "5bf91bfa",
   "metadata": {},
   "source": [
    "### B. Handling Outlier"
   ]
  },
  {
   "cell_type": "code",
   "execution_count": 10,
   "id": "77c0dd0d",
   "metadata": {},
   "outputs": [
    {
     "name": "stdout",
     "output_type": "stream",
     "text": [
      "Distribusi kolom age: -0.06345363146474678\n",
      "Distribusi kolom monthly_income: 0.014424094320501355\n",
      "Distribusi kolom loan_amount: 0.003237744086270139\n",
      "Distribusi kolom credit_score: -0.024777358852267218\n"
     ]
    }
   ],
   "source": [
    "# skewness test untuk melihat apakah data terdistribusi normal atau skew\n",
    "skew_test = ['age', 'monthly_income', 'loan_amount', 'credit_score']\n",
    "\n",
    "for i in skew_test:\n",
    "    hasil = X_train[i].skew()\n",
    "    \n",
    "    print(f'Distribusi kolom {i}: {hasil}')"
   ]
  },
  {
   "cell_type": "markdown",
   "id": "37118503",
   "metadata": {},
   "source": [
    "Dari hasil skew test menunjukkan bahwa semua kolom terdistribusi normal, karena nilainya yang mendekati 0"
   ]
  },
  {
   "cell_type": "markdown",
   "id": "a8310642",
   "metadata": {},
   "source": [
    "## 5. Modelling"
   ]
  },
  {
   "cell_type": "markdown",
   "id": "4bedec8a",
   "metadata": {},
   "source": [
    "### A. Membuat Pipeline"
   ]
  },
  {
   "cell_type": "code",
   "execution_count": 11,
   "id": "f3b7e093",
   "metadata": {},
   "outputs": [],
   "source": [
    "# Make Pipeline\n",
    "pipe_log = make_pipeline(StandardScaler(),LogisticRegression(max_iter=100))\n",
    "pipe_gradboost = make_pipeline(StandardScaler(),GradientBoostingClassifier())"
   ]
  },
  {
   "cell_type": "markdown",
   "id": "c93d9d4f",
   "metadata": {},
   "source": [
    "### B. Cross Validation"
   ]
  },
  {
   "cell_type": "code",
   "execution_count": 12,
   "id": "7f762ca0",
   "metadata": {},
   "outputs": [],
   "source": [
    "# Setting kfold\n",
    "skfold = StratifiedKFold(n_splits=5)\n",
    "\n",
    "# Define Cross Validation\n",
    "cv_log_model = cross_val_score(pipe_log, X_train, y_train, cv= skfold, scoring='roc_auc', n_jobs=-1)\n",
    "cv_gradboost_model = cross_val_score(pipe_gradboost, X_train, y_train, cv= skfold, scoring='roc_auc', n_jobs=-1)"
   ]
  },
  {
   "cell_type": "code",
   "execution_count": 13,
   "id": "982e8339",
   "metadata": {},
   "outputs": [
    {
     "name": "stdout",
     "output_type": "stream",
     "text": [
      "log_model\n",
      "roc_auc - All - Cross Validation : [0.87268895 0.73474471 0.73349938 0.79509494 0.79078762]\n",
      "roc_auc - Mean - Cross Validation : 0.7853631198676283\n",
      "roc_auc - std - Cross Validation : 0.05099412991761438\n",
      "roc_auc - Range of Test Set : 0.7343689899500139 - 0.8363572497852427\n",
      "--------------------------------------------------\n",
      "gradboost_model\n",
      "roc_auc - All - Cross Validation : [0.78695277 0.5319954  0.67108918 0.75927391 0.69883966]\n",
      "roc_auc - Mean - Cross Validation : 0.6896301864667133\n",
      "roc_auc - std - Cross Validation : 0.08899353081456675\n",
      "roc_auc - Range of Test Set : 0.6006366556521465 - 0.77862371728128\n",
      "--------------------------------------------------\n",
      "Best Model: log_model\n",
      "Cross Val Mean from Best Model: 0.7853631198676283\n"
     ]
    }
   ],
   "source": [
    "# Finding Best Model based on Cross_Val_Score (mean)\n",
    "name_model = []\n",
    "cv_scores = 0\n",
    "for cv,name in zip([cv_log_model,cv_gradboost_model],\n",
    "                   ['log_model','gradboost_model']):\n",
    "  print(name)\n",
    "  print('roc_auc - All - Cross Validation :', cv)\n",
    "  print('roc_auc - Mean - Cross Validation :', cv.mean())\n",
    "  print('roc_auc - std - Cross Validation :', cv.std())\n",
    "  print('roc_auc - Range of Test Set :', (cv.mean()-cv.std()), '-' , (cv.mean()+cv.std()))\n",
    "  print('-'*50)\n",
    "  if cv.mean() > cv_scores:\n",
    "    cv_scores = cv.mean()\n",
    "    name_model = name\n",
    "  else:\n",
    "    pass\n",
    "print('Best Model:', name_model)\n",
    "print('Cross Val Mean from Best Model:', cv_scores)"
   ]
  },
  {
   "cell_type": "markdown",
   "id": "88f9c184",
   "metadata": {},
   "source": [
    "### C. Hyper parameter"
   ]
  },
  {
   "cell_type": "code",
   "execution_count": 14,
   "id": "e5ead250",
   "metadata": {},
   "outputs": [
    {
     "name": "stdout",
     "output_type": "stream",
     "text": [
      "Best parameters: {'logisticregression__C': 0.1, 'logisticregression__class_weight': None, 'logisticregression__penalty': 'l2', 'logisticregression__solver': 'liblinear'}\n",
      "Best score: 0.7868334004973507\n"
     ]
    }
   ],
   "source": [
    "param_logreg = {\n",
    "    'logisticregression__penalty': ['l2'],\n",
    "    'logisticregression__C': [0.01, 0.1, 1, 10],\n",
    "    'logisticregression__solver': ['lbfgs', 'liblinear'],\n",
    "    'logisticregression__class_weight': [None, 'balanced']\n",
    "}\n",
    "\n",
    "grid_logreg = GridSearchCV(pipe_log, param_logreg, cv=skfold, scoring='roc_auc')\n",
    "grid_logreg.fit(X_train, y_train)\n",
    "\n",
    "print(\"Best parameters:\", grid_logreg.best_params_)\n",
    "print(\"Best score:\", grid_logreg.best_score_)"
   ]
  },
  {
   "cell_type": "code",
   "execution_count": 15,
   "id": "49764201",
   "metadata": {},
   "outputs": [
    {
     "name": "stdout",
     "output_type": "stream",
     "text": [
      "Best parameters: {'gradientboostingclassifier__learning_rate': 0.05, 'gradientboostingclassifier__max_depth': 3, 'gradientboostingclassifier__min_samples_leaf': 3, 'gradientboostingclassifier__min_samples_split': 2, 'gradientboostingclassifier__n_estimators': 200, 'gradientboostingclassifier__subsample': 0.8}\n",
      "Best score: 0.9879166666666667\n"
     ]
    }
   ],
   "source": [
    "param_gradboost = {\n",
    "    'gradientboostingclassifier__n_estimators': [100, 200],\n",
    "    'gradientboostingclassifier__learning_rate': [0.05, 0.1],\n",
    "    'gradientboostingclassifier__max_depth': [3, 5],\n",
    "    'gradientboostingclassifier__subsample': [0.8, 1.0],\n",
    "    'gradientboostingclassifier__min_samples_split': [2, 5],\n",
    "    'gradientboostingclassifier__min_samples_leaf': [1, 3]\n",
    "}\n",
    "\n",
    "grid_gradboost = GridSearchCV(pipe_gradboost, param_gradboost, cv=5, scoring='accuracy')\n",
    "grid_gradboost.fit(X_train, y_train)\n",
    "\n",
    "print(\"Best parameters:\", grid_gradboost.best_params_)\n",
    "print(\"Best score:\", grid_gradboost.best_score_)\n",
    "\n",
    "best_gradboost = grid_gradboost.best_estimator_"
   ]
  },
  {
   "cell_type": "markdown",
   "id": "a07214c4",
   "metadata": {},
   "source": [
    "Hasil dari cross validation menunjukkan bahwa best model untuk dataset ini adalah Logistic Regression dengan nilai mean mencapai 0.78, nilai mean yang tiinggi menunjukkan model yang lebih konsisten dan resiko overfit lebih kecil.\n",
    "\n",
    "Tetapi setelah dilakukan hyper parameter tuning, Gradientboost menunjukkan hasil score yang lebih tinggi dibandingkan hasil score dari logistic regression dengan score 0.987. Maka saya memutuskan menggunakan model Gradient Boost untuk membuat machine learning ini"
   ]
  },
  {
   "cell_type": "markdown",
   "id": "3dd5acd8",
   "metadata": {},
   "source": [
    "### D. Model Predict & Evaluation"
   ]
  },
  {
   "cell_type": "code",
   "execution_count": 16,
   "id": "47d1279a",
   "metadata": {},
   "outputs": [],
   "source": [
    "y_pred_train = best_gradboost.predict(X_train)\n",
    "y_pred_train = best_gradboost.predict(X_train)"
   ]
  },
  {
   "cell_type": "code",
   "execution_count": 17,
   "id": "1ae1bf3a",
   "metadata": {},
   "outputs": [
    {
     "name": "stdout",
     "output_type": "stream",
     "text": [
      "Roc Auc (train): 0.9884\n",
      "Roc Auc (test): 0.8750\n"
     ]
    }
   ],
   "source": [
    "y_train_proba = best_gradboost.predict_proba(X_train)[:,1]\n",
    "y_test_proba = best_gradboost.predict_proba(X_test)[:,1]\n",
    "\n",
    "roc_auc_train_gradboost = roc_auc_score(y_train,y_train_proba)\n",
    "roc_auc_test_gradboost = roc_auc_score(y_test,y_test_proba)\n",
    "\n",
    "print(f\"Roc Auc (train): {roc_auc_train_gradboost:.4f}\")\n",
    "print(f\"Roc Auc (test): {roc_auc_test_gradboost:.4f}\")"
   ]
  },
  {
   "cell_type": "code",
   "execution_count": 18,
   "id": "ab045d1f",
   "metadata": {},
   "outputs": [
    {
     "data": {
      "image/png": "[encoded data removed]",
      "text/plain": [
       "<Figure size 800x600 with 1 Axes>"
      ]
     },
     "metadata": {},
     "output_type": "display_data"
    }
   ],
   "source": [
    "# Membuat ROC Curve\n",
    "fpr_train, tpr_train, _ = roc_curve(y_train, y_train_proba)\n",
    "fpr_test, tpr_test, _ = roc_curve(y_test, y_test_proba)\n",
    "\n",
    "# Plot ROC Curve\n",
    "plt.figure(figsize=(8,6))\n",
    "plt.plot(fpr_train, tpr_train, label=f\"Train ROC Curve (AUC = {roc_auc_train_gradboost:.4f})\", linestyle='--')\n",
    "plt.plot(fpr_test, tpr_test, label=f\"Test ROC Curve (AUC = {roc_auc_test_gradboost:.4f})\")\n",
    "plt.plot([0, 1], [0, 1], color='gray', linestyle=':', label='Random Guess (AUC = 0.5)')\n",
    "plt.xlabel(\"False Positive Rate\")\n",
    "plt.ylabel(\"True Positive Rate\")\n",
    "plt.title(\"ROC Curve - Gradient Boosting\")\n",
    "plt.legend(loc=\"lower right\")\n",
    "plt.grid(True)\n",
    "plt.show()"
   ]
  },
  {
   "cell_type": "markdown",
   "id": "b504f81a",
   "metadata": {},
   "source": [
    "Berdasarkan dari kurva ROC, model gradient boosting menunjukkan performa klasifikasi yang sangat baik hal ini ditunjukkan dari hasil AUC pada data train yang sangat tinggi yaitu 0.9394, yang berarti model mampu membedakan antara kelas true dan false dengan sangat baik.\n",
    "\n",
    "Pada data testnyapun nilai AUC nya tidak berbeda jauh dengan data train yaitu 0.8960. Ini menunjukkan bahwa model memiliki kemampuan generalisasi yang baik dan tidak mengalami overfitting.\n",
    "\n",
    "Secara keseluruhan halis dari kurva ROC dan nilai AUC menunjukkan  moderadient boosting memiliki performa yang baik pada data train maupun data test, dan model ini juga dapat digunuakan di dunia nyata dengan persentase keberhasilan yang tinggi atau dapat dipercaya"
   ]
  },
  {
   "cell_type": "markdown",
   "id": "85487e59",
   "metadata": {},
   "source": [
    "### E. Scorecard"
   ]
  },
  {
   "cell_type": "code",
   "execution_count": 19,
   "id": "31f896f5",
   "metadata": {},
   "outputs": [],
   "source": [
    "# Fungsi scorecard\n",
    "def prob_to_score(p, base_score=600, pdo=50, odds_base=1):\n",
    "    p = np.clip(p, 1e-6, 1 - 1e-6)  \n",
    "    B = pdo / np.log(2)\n",
    "    A = base_score + B * np.log(odds_base)\n",
    "    odds = (1 - p) / p \n",
    "    score = A + B * np.log(odds)\n",
    "    return np.clip(score, 300, 850) \n",
    "\n",
    "# Fungsi risk level\n",
    "def assign_risk(score):\n",
    "    if score < 580:\n",
    "        return 'High Risk'\n",
    "    elif score <= 680:\n",
    "        return 'Medium Risk'\n",
    "    else:\n",
    "        return 'Low Risk'\n",
    "\n",
    "# Score Credit\n",
    "train_scores = prob_to_score(y_train_proba)\n",
    "test_scores = prob_to_score(y_test_proba)\n",
    "\n",
    "# Risk level\n",
    "train_risks = [assign_risk(score) for score in train_scores]\n",
    "test_risks = [assign_risk(score) for score in test_scores]"
   ]
  },
  {
   "cell_type": "code",
   "execution_count": 20,
   "id": "c6d0d4b6",
   "metadata": {},
   "outputs": [
    {
     "data": {
      "text/html": [
       "<div>\n",
       "<style scoped>\n",
       "    .dataframe tbody tr th:only-of-type {\n",
       "        vertical-align: middle;\n",
       "    }\n",
       "\n",
       "    .dataframe tbody tr th {\n",
       "        vertical-align: top;\n",
       "    }\n",
       "\n",
       "    .dataframe thead th {\n",
       "        text-align: right;\n",
       "    }\n",
       "</style>\n",
       "<table border=\"1\" class=\"dataframe\">\n",
       "  <thead>\n",
       "    <tr style=\"text-align: right;\">\n",
       "      <th></th>\n",
       "      <th>age</th>\n",
       "      <th>monthly_income</th>\n",
       "      <th>loan_amount</th>\n",
       "      <th>previous_defaults</th>\n",
       "      <th>credit_score</th>\n",
       "      <th>default</th>\n",
       "      <th>risk_level</th>\n",
       "    </tr>\n",
       "  </thead>\n",
       "  <tbody>\n",
       "    <tr>\n",
       "      <th>0</th>\n",
       "      <td>57</td>\n",
       "      <td>4446124</td>\n",
       "      <td>11914789</td>\n",
       "      <td>0</td>\n",
       "      <td>850.000000</td>\n",
       "      <td>0</td>\n",
       "      <td>Low Risk</td>\n",
       "    </tr>\n",
       "    <tr>\n",
       "      <th>1</th>\n",
       "      <td>27</td>\n",
       "      <td>5917114</td>\n",
       "      <td>11501508</td>\n",
       "      <td>0</td>\n",
       "      <td>850.000000</td>\n",
       "      <td>0</td>\n",
       "      <td>Low Risk</td>\n",
       "    </tr>\n",
       "    <tr>\n",
       "      <th>2</th>\n",
       "      <td>35</td>\n",
       "      <td>19762447</td>\n",
       "      <td>9609715</td>\n",
       "      <td>1</td>\n",
       "      <td>850.000000</td>\n",
       "      <td>0</td>\n",
       "      <td>Low Risk</td>\n",
       "    </tr>\n",
       "    <tr>\n",
       "      <th>3</th>\n",
       "      <td>27</td>\n",
       "      <td>13498233</td>\n",
       "      <td>7994906</td>\n",
       "      <td>0</td>\n",
       "      <td>850.000000</td>\n",
       "      <td>0</td>\n",
       "      <td>Low Risk</td>\n",
       "    </tr>\n",
       "    <tr>\n",
       "      <th>4</th>\n",
       "      <td>42</td>\n",
       "      <td>3417319</td>\n",
       "      <td>7933622</td>\n",
       "      <td>1</td>\n",
       "      <td>850.000000</td>\n",
       "      <td>0</td>\n",
       "      <td>Low Risk</td>\n",
       "    </tr>\n",
       "    <tr>\n",
       "      <th>...</th>\n",
       "      <td>...</td>\n",
       "      <td>...</td>\n",
       "      <td>...</td>\n",
       "      <td>...</td>\n",
       "      <td>...</td>\n",
       "      <td>...</td>\n",
       "      <td>...</td>\n",
       "    </tr>\n",
       "    <tr>\n",
       "      <th>5995</th>\n",
       "      <td>51</td>\n",
       "      <td>5973392</td>\n",
       "      <td>10526994</td>\n",
       "      <td>0</td>\n",
       "      <td>850.000000</td>\n",
       "      <td>0</td>\n",
       "      <td>Low Risk</td>\n",
       "    </tr>\n",
       "    <tr>\n",
       "      <th>5996</th>\n",
       "      <td>46</td>\n",
       "      <td>5561269</td>\n",
       "      <td>7719233</td>\n",
       "      <td>0</td>\n",
       "      <td>850.000000</td>\n",
       "      <td>0</td>\n",
       "      <td>Low Risk</td>\n",
       "    </tr>\n",
       "    <tr>\n",
       "      <th>5997</th>\n",
       "      <td>26</td>\n",
       "      <td>13052692</td>\n",
       "      <td>14548282</td>\n",
       "      <td>1</td>\n",
       "      <td>850.000000</td>\n",
       "      <td>0</td>\n",
       "      <td>Low Risk</td>\n",
       "    </tr>\n",
       "    <tr>\n",
       "      <th>5998</th>\n",
       "      <td>27</td>\n",
       "      <td>11574770</td>\n",
       "      <td>10952905</td>\n",
       "      <td>2</td>\n",
       "      <td>850.000000</td>\n",
       "      <td>0</td>\n",
       "      <td>Low Risk</td>\n",
       "    </tr>\n",
       "    <tr>\n",
       "      <th>5999</th>\n",
       "      <td>42</td>\n",
       "      <td>11172308</td>\n",
       "      <td>13996875</td>\n",
       "      <td>0</td>\n",
       "      <td>801.432634</td>\n",
       "      <td>0</td>\n",
       "      <td>Low Risk</td>\n",
       "    </tr>\n",
       "  </tbody>\n",
       "</table>\n",
       "<p>6000 rows × 7 columns</p>\n",
       "</div>"
      ],
      "text/plain": [
       "      age  monthly_income  loan_amount  previous_defaults  credit_score  \\\n",
       "0      57         4446124     11914789                  0    850.000000   \n",
       "1      27         5917114     11501508                  0    850.000000   \n",
       "2      35        19762447      9609715                  1    850.000000   \n",
       "3      27        13498233      7994906                  0    850.000000   \n",
       "4      42         3417319      7933622                  1    850.000000   \n",
       "...   ...             ...          ...                ...           ...   \n",
       "5995   51         5973392     10526994                  0    850.000000   \n",
       "5996   46         5561269      7719233                  0    850.000000   \n",
       "5997   26        13052692     14548282                  1    850.000000   \n",
       "5998   27        11574770     10952905                  2    850.000000   \n",
       "5999   42        11172308     13996875                  0    801.432634   \n",
       "\n",
       "      default risk_level  \n",
       "0           0   Low Risk  \n",
       "1           0   Low Risk  \n",
       "2           0   Low Risk  \n",
       "3           0   Low Risk  \n",
       "4           0   Low Risk  \n",
       "...       ...        ...  \n",
       "5995        0   Low Risk  \n",
       "5996        0   Low Risk  \n",
       "5997        0   Low Risk  \n",
       "5998        0   Low Risk  \n",
       "5999        0   Low Risk  \n",
       "\n",
       "[6000 rows x 7 columns]"
      ]
     },
     "execution_count": 20,
     "metadata": {},
     "output_type": "execute_result"
    }
   ],
   "source": [
    "# Menggabungkan dengan X,y,credit score, dan risk level\n",
    "train_full = X_train.copy()\n",
    "train_full['default'] = y_train\n",
    "train_full['credit_score'] = train_scores\n",
    "train_full['risk_level'] = train_risks\n",
    "\n",
    "test_full = X_test.copy()\n",
    "test_full['default'] = y_test\n",
    "test_full['credit_score'] = test_scores\n",
    "test_full['risk_level'] = test_risks\n",
    "\n",
    "df_all_scores = pd.concat([train_full, test_full], axis=0).reset_index(drop=True)\n",
    "df_all_scores"
   ]
  },
  {
   "cell_type": "markdown",
   "id": "1aef3e97",
   "metadata": {},
   "source": [
    "### F. SHAP"
   ]
  },
  {
   "cell_type": "code",
   "execution_count": 21,
   "id": "d66bd09e",
   "metadata": {},
   "outputs": [
    {
     "data": {
      "image/png": "[encoded data removed]",
      "text/plain": [
       "<Figure size 800x350 with 2 Axes>"
      ]
     },
     "metadata": {},
     "output_type": "display_data"
    }
   ],
   "source": [
    "explainer = shap.Explainer(best_gradboost.named_steps['gradientboostingclassifier'])\n",
    "X_test_transformed = best_gradboost.named_steps['standardscaler'].transform(X_test)\n",
    "shap_values = explainer(X_test_transformed)\n",
    "\n",
    "# Generate SHAP summary plot dan simpan sebagai PNG\n",
    "plt.figure()\n",
    "shap.summary_plot(shap_values, X_test, max_display=10, show=False)\n",
    "plt.tight_layout()\n",
    "plt.savefig(\"shap_top10_features.png\", dpi=300)\n",
    "plt.show()"
   ]
  },
  {
   "cell_type": "markdown",
   "id": "b4ced34f",
   "metadata": {},
   "source": [
    "### G. Ekspor Data actual dan proba"
   ]
  },
  {
   "cell_type": "code",
   "execution_count": 22,
   "id": "da021c04",
   "metadata": {},
   "outputs": [],
   "source": [
    "predic = pd.DataFrame({\n",
    "    'actual': y_test,\n",
    "    'proba': y_test_proba\n",
    "})\n",
    "\n",
    "predic.to_csv(\"../data/predictions.csv\", index=False)"
   ]
  },
  {
   "cell_type": "code",
   "execution_count": null,
   "id": "7e72dd28",
   "metadata": {},
   "outputs": [],
   "source": []
  }
 ],
 "metadata": {
  "kernelspec": {
   "display_name": "py39",
   "language": "python",
   "name": "python3"
  },
  "language_info": {
   "codemirror_mode": {
    "name": "ipython",
    "version": 3
   },
   "file_extension": ".py",
   "mimetype": "text/x-python",
   "name": "python",
   "nbconvert_exporter": "python",
   "pygments_lexer": "ipython3",
   "version": "3.9.21"
  }
 },
 "nbformat": 4,
 "nbformat_minor": 5
}
